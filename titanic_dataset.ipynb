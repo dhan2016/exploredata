{
  "nbformat": 4,
  "nbformat_minor": 0,
  "metadata": {
    "colab": {
      "name": "titanic_dataset.ipynb",
      "provenance": [],
      "collapsed_sections": [],
      "authorship_tag": "ABX9TyMlcZw0pvYmIphpDVobGGjq"
    },
    "kernelspec": {
      "name": "python3",
      "display_name": "Python 3"
    }
  },
  "cells": [
    {
      "cell_type": "code",
      "metadata": {
        "id": "yZahgjhjT72w"
      },
      "source": [
        "import pandas as pd\r\n",
        "import numpy as np\r\n",
        "import matplotlib\r\n",
        "import matplotlib.pyplot as plt\r\n",
        "%matplotlib inline\r\n",
        "from pandas.plotting import scatter_matrix\r\n",
        "import seaborn as sns\r\n",
        "sns.set(style='white', color_codes=True, font_scale=1.5)\r\n",
        "from sklearn.linear_model import LogisticRegression\r\n",
        "from sklearn.model_selection import train_test_split\r\n",
        "from sklearn.metrics import confusion_matrix, classification_report, accuracy_score, precision_score, recall_score, f1_score\r\n",
        "from sklearn import metrics"
      ],
      "execution_count": 20,
      "outputs": []
    },
    {
      "cell_type": "code",
      "metadata": {
        "id": "jbNLo70egeop"
      },
      "source": [
        "df_train = pd.read_csv('train.csv')"
      ],
      "execution_count": 21,
      "outputs": []
    },
    {
      "cell_type": "code",
      "metadata": {
        "colab": {
          "base_uri": "https://localhost:8080/"
        },
        "id": "l2qcb9JWfVqU",
        "outputId": "a43f5329-f050-4d69-d40f-f931000e52e4"
      },
      "source": [
        "df_train.shape"
      ],
      "execution_count": 22,
      "outputs": [
        {
          "output_type": "execute_result",
          "data": {
            "text/plain": [
              "(891, 12)"
            ]
          },
          "metadata": {
            "tags": []
          },
          "execution_count": 22
        }
      ]
    },
    {
      "cell_type": "code",
      "metadata": {
        "colab": {
          "base_uri": "https://localhost:8080/",
          "height": 229
        },
        "id": "f9DCB347fYqw",
        "outputId": "d28a80aa-e9f7-4adb-99b9-773e2536c397"
      },
      "source": [
        "df_train.head()"
      ],
      "execution_count": 23,
      "outputs": [
        {
          "output_type": "execute_result",
          "data": {
            "text/html": [
              "<div>\n",
              "<style scoped>\n",
              "    .dataframe tbody tr th:only-of-type {\n",
              "        vertical-align: middle;\n",
              "    }\n",
              "\n",
              "    .dataframe tbody tr th {\n",
              "        vertical-align: top;\n",
              "    }\n",
              "\n",
              "    .dataframe thead th {\n",
              "        text-align: right;\n",
              "    }\n",
              "</style>\n",
              "<table border=\"1\" class=\"dataframe\">\n",
              "  <thead>\n",
              "    <tr style=\"text-align: right;\">\n",
              "      <th></th>\n",
              "      <th>PassengerId</th>\n",
              "      <th>Survived</th>\n",
              "      <th>Pclass</th>\n",
              "      <th>Name</th>\n",
              "      <th>Sex</th>\n",
              "      <th>Age</th>\n",
              "      <th>SibSp</th>\n",
              "      <th>Parch</th>\n",
              "      <th>Ticket</th>\n",
              "      <th>Fare</th>\n",
              "      <th>Cabin</th>\n",
              "      <th>Embarked</th>\n",
              "    </tr>\n",
              "  </thead>\n",
              "  <tbody>\n",
              "    <tr>\n",
              "      <th>0</th>\n",
              "      <td>1</td>\n",
              "      <td>0</td>\n",
              "      <td>3</td>\n",
              "      <td>Braund, Mr. Owen Harris</td>\n",
              "      <td>male</td>\n",
              "      <td>22.0</td>\n",
              "      <td>1</td>\n",
              "      <td>0</td>\n",
              "      <td>A/5 21171</td>\n",
              "      <td>7.2500</td>\n",
              "      <td>NaN</td>\n",
              "      <td>S</td>\n",
              "    </tr>\n",
              "    <tr>\n",
              "      <th>1</th>\n",
              "      <td>2</td>\n",
              "      <td>1</td>\n",
              "      <td>1</td>\n",
              "      <td>Cumings, Mrs. John Bradley (Florence Briggs Th...</td>\n",
              "      <td>female</td>\n",
              "      <td>38.0</td>\n",
              "      <td>1</td>\n",
              "      <td>0</td>\n",
              "      <td>PC 17599</td>\n",
              "      <td>71.2833</td>\n",
              "      <td>C85</td>\n",
              "      <td>C</td>\n",
              "    </tr>\n",
              "    <tr>\n",
              "      <th>2</th>\n",
              "      <td>3</td>\n",
              "      <td>1</td>\n",
              "      <td>3</td>\n",
              "      <td>Heikkinen, Miss. Laina</td>\n",
              "      <td>female</td>\n",
              "      <td>26.0</td>\n",
              "      <td>0</td>\n",
              "      <td>0</td>\n",
              "      <td>STON/O2. 3101282</td>\n",
              "      <td>7.9250</td>\n",
              "      <td>NaN</td>\n",
              "      <td>S</td>\n",
              "    </tr>\n",
              "    <tr>\n",
              "      <th>3</th>\n",
              "      <td>4</td>\n",
              "      <td>1</td>\n",
              "      <td>1</td>\n",
              "      <td>Futrelle, Mrs. Jacques Heath (Lily May Peel)</td>\n",
              "      <td>female</td>\n",
              "      <td>35.0</td>\n",
              "      <td>1</td>\n",
              "      <td>0</td>\n",
              "      <td>113803</td>\n",
              "      <td>53.1000</td>\n",
              "      <td>C123</td>\n",
              "      <td>S</td>\n",
              "    </tr>\n",
              "    <tr>\n",
              "      <th>4</th>\n",
              "      <td>5</td>\n",
              "      <td>0</td>\n",
              "      <td>3</td>\n",
              "      <td>Allen, Mr. William Henry</td>\n",
              "      <td>male</td>\n",
              "      <td>35.0</td>\n",
              "      <td>0</td>\n",
              "      <td>0</td>\n",
              "      <td>373450</td>\n",
              "      <td>8.0500</td>\n",
              "      <td>NaN</td>\n",
              "      <td>S</td>\n",
              "    </tr>\n",
              "  </tbody>\n",
              "</table>\n",
              "</div>"
            ],
            "text/plain": [
              "   PassengerId  Survived  Pclass  ...     Fare Cabin  Embarked\n",
              "0            1         0       3  ...   7.2500   NaN         S\n",
              "1            2         1       1  ...  71.2833   C85         C\n",
              "2            3         1       3  ...   7.9250   NaN         S\n",
              "3            4         1       1  ...  53.1000  C123         S\n",
              "4            5         0       3  ...   8.0500   NaN         S\n",
              "\n",
              "[5 rows x 12 columns]"
            ]
          },
          "metadata": {
            "tags": []
          },
          "execution_count": 23
        }
      ]
    },
    {
      "cell_type": "code",
      "metadata": {
        "colab": {
          "base_uri": "https://localhost:8080/"
        },
        "id": "HCXYxibmfbAQ",
        "outputId": "9ba7e2a6-ffbd-4b02-a34e-7ebdf1b70601"
      },
      "source": [
        "df_train.Survived.value_counts()"
      ],
      "execution_count": 24,
      "outputs": [
        {
          "output_type": "execute_result",
          "data": {
            "text/plain": [
              "0    549\n",
              "1    342\n",
              "Name: Survived, dtype: int64"
            ]
          },
          "metadata": {
            "tags": []
          },
          "execution_count": 24
        }
      ]
    },
    {
      "cell_type": "code",
      "metadata": {
        "colab": {
          "base_uri": "https://localhost:8080/"
        },
        "id": "1N2aI11Sfkt_",
        "outputId": "970a2cb9-44bd-4f3d-8e81-e1a1b4701249"
      },
      "source": [
        "df_train.Sex.value_counts()"
      ],
      "execution_count": 25,
      "outputs": [
        {
          "output_type": "execute_result",
          "data": {
            "text/plain": [
              "male      577\n",
              "female    314\n",
              "Name: Sex, dtype: int64"
            ]
          },
          "metadata": {
            "tags": []
          },
          "execution_count": 25
        }
      ]
    },
    {
      "cell_type": "code",
      "metadata": {
        "colab": {
          "base_uri": "https://localhost:8080/"
        },
        "id": "4wP6Go3efqtg",
        "outputId": "5098ce1c-15cf-4287-cbea-17ba7de12157"
      },
      "source": [
        "df_train.Embarked.value_counts()"
      ],
      "execution_count": 26,
      "outputs": [
        {
          "output_type": "execute_result",
          "data": {
            "text/plain": [
              "S    644\n",
              "C    168\n",
              "Q     77\n",
              "Name: Embarked, dtype: int64"
            ]
          },
          "metadata": {
            "tags": []
          },
          "execution_count": 26
        }
      ]
    },
    {
      "cell_type": "code",
      "metadata": {
        "colab": {
          "base_uri": "https://localhost:8080/"
        },
        "id": "3ldubdQKfxvc",
        "outputId": "0c5f89a8-1ac8-47c7-d91d-a498c94ddfc8"
      },
      "source": [
        "df_train.isnull().sum()"
      ],
      "execution_count": 27,
      "outputs": [
        {
          "output_type": "execute_result",
          "data": {
            "text/plain": [
              "PassengerId      0\n",
              "Survived         0\n",
              "Pclass           0\n",
              "Name             0\n",
              "Sex              0\n",
              "Age            177\n",
              "SibSp            0\n",
              "Parch            0\n",
              "Ticket           0\n",
              "Fare             0\n",
              "Cabin          687\n",
              "Embarked         2\n",
              "dtype: int64"
            ]
          },
          "metadata": {
            "tags": []
          },
          "execution_count": 27
        }
      ]
    },
    {
      "cell_type": "code",
      "metadata": {
        "id": "Kz8-aO4Qf1RU"
      },
      "source": [
        "df_train = df_train.drop(['PassengerId', 'Name', 'Ticket', 'Cabin'], axis = 1)"
      ],
      "execution_count": 28,
      "outputs": []
    },
    {
      "cell_type": "code",
      "metadata": {
        "colab": {
          "base_uri": "https://localhost:8080/",
          "height": 195
        },
        "id": "lOeAb2KFp3_x",
        "outputId": "3a61fdf4-a05f-4cb7-aaf9-a1e83ee243d6"
      },
      "source": [
        "df_train.head()"
      ],
      "execution_count": 29,
      "outputs": [
        {
          "output_type": "execute_result",
          "data": {
            "text/html": [
              "<div>\n",
              "<style scoped>\n",
              "    .dataframe tbody tr th:only-of-type {\n",
              "        vertical-align: middle;\n",
              "    }\n",
              "\n",
              "    .dataframe tbody tr th {\n",
              "        vertical-align: top;\n",
              "    }\n",
              "\n",
              "    .dataframe thead th {\n",
              "        text-align: right;\n",
              "    }\n",
              "</style>\n",
              "<table border=\"1\" class=\"dataframe\">\n",
              "  <thead>\n",
              "    <tr style=\"text-align: right;\">\n",
              "      <th></th>\n",
              "      <th>Survived</th>\n",
              "      <th>Pclass</th>\n",
              "      <th>Sex</th>\n",
              "      <th>Age</th>\n",
              "      <th>SibSp</th>\n",
              "      <th>Parch</th>\n",
              "      <th>Fare</th>\n",
              "      <th>Embarked</th>\n",
              "    </tr>\n",
              "  </thead>\n",
              "  <tbody>\n",
              "    <tr>\n",
              "      <th>0</th>\n",
              "      <td>0</td>\n",
              "      <td>3</td>\n",
              "      <td>male</td>\n",
              "      <td>22.0</td>\n",
              "      <td>1</td>\n",
              "      <td>0</td>\n",
              "      <td>7.2500</td>\n",
              "      <td>S</td>\n",
              "    </tr>\n",
              "    <tr>\n",
              "      <th>1</th>\n",
              "      <td>1</td>\n",
              "      <td>1</td>\n",
              "      <td>female</td>\n",
              "      <td>38.0</td>\n",
              "      <td>1</td>\n",
              "      <td>0</td>\n",
              "      <td>71.2833</td>\n",
              "      <td>C</td>\n",
              "    </tr>\n",
              "    <tr>\n",
              "      <th>2</th>\n",
              "      <td>1</td>\n",
              "      <td>3</td>\n",
              "      <td>female</td>\n",
              "      <td>26.0</td>\n",
              "      <td>0</td>\n",
              "      <td>0</td>\n",
              "      <td>7.9250</td>\n",
              "      <td>S</td>\n",
              "    </tr>\n",
              "    <tr>\n",
              "      <th>3</th>\n",
              "      <td>1</td>\n",
              "      <td>1</td>\n",
              "      <td>female</td>\n",
              "      <td>35.0</td>\n",
              "      <td>1</td>\n",
              "      <td>0</td>\n",
              "      <td>53.1000</td>\n",
              "      <td>S</td>\n",
              "    </tr>\n",
              "    <tr>\n",
              "      <th>4</th>\n",
              "      <td>0</td>\n",
              "      <td>3</td>\n",
              "      <td>male</td>\n",
              "      <td>35.0</td>\n",
              "      <td>0</td>\n",
              "      <td>0</td>\n",
              "      <td>8.0500</td>\n",
              "      <td>S</td>\n",
              "    </tr>\n",
              "  </tbody>\n",
              "</table>\n",
              "</div>"
            ],
            "text/plain": [
              "   Survived  Pclass     Sex   Age  SibSp  Parch     Fare Embarked\n",
              "0         0       3    male  22.0      1      0   7.2500        S\n",
              "1         1       1  female  38.0      1      0  71.2833        C\n",
              "2         1       3  female  26.0      0      0   7.9250        S\n",
              "3         1       1  female  35.0      1      0  53.1000        S\n",
              "4         0       3    male  35.0      0      0   8.0500        S"
            ]
          },
          "metadata": {
            "tags": []
          },
          "execution_count": 29
        }
      ]
    },
    {
      "cell_type": "code",
      "metadata": {
        "colab": {
          "base_uri": "https://localhost:8080/",
          "height": 166
        },
        "id": "cnBW7B6ep5pT",
        "outputId": "eda62cd9-d8de-44cf-e374-918bac997271"
      },
      "source": [
        "df_train.groupby(['Pclass']).mean()"
      ],
      "execution_count": 30,
      "outputs": [
        {
          "output_type": "execute_result",
          "data": {
            "text/html": [
              "<div>\n",
              "<style scoped>\n",
              "    .dataframe tbody tr th:only-of-type {\n",
              "        vertical-align: middle;\n",
              "    }\n",
              "\n",
              "    .dataframe tbody tr th {\n",
              "        vertical-align: top;\n",
              "    }\n",
              "\n",
              "    .dataframe thead th {\n",
              "        text-align: right;\n",
              "    }\n",
              "</style>\n",
              "<table border=\"1\" class=\"dataframe\">\n",
              "  <thead>\n",
              "    <tr style=\"text-align: right;\">\n",
              "      <th></th>\n",
              "      <th>Survived</th>\n",
              "      <th>Age</th>\n",
              "      <th>SibSp</th>\n",
              "      <th>Parch</th>\n",
              "      <th>Fare</th>\n",
              "    </tr>\n",
              "    <tr>\n",
              "      <th>Pclass</th>\n",
              "      <th></th>\n",
              "      <th></th>\n",
              "      <th></th>\n",
              "      <th></th>\n",
              "      <th></th>\n",
              "    </tr>\n",
              "  </thead>\n",
              "  <tbody>\n",
              "    <tr>\n",
              "      <th>1</th>\n",
              "      <td>0.629630</td>\n",
              "      <td>38.233441</td>\n",
              "      <td>0.416667</td>\n",
              "      <td>0.356481</td>\n",
              "      <td>84.154687</td>\n",
              "    </tr>\n",
              "    <tr>\n",
              "      <th>2</th>\n",
              "      <td>0.472826</td>\n",
              "      <td>29.877630</td>\n",
              "      <td>0.402174</td>\n",
              "      <td>0.380435</td>\n",
              "      <td>20.662183</td>\n",
              "    </tr>\n",
              "    <tr>\n",
              "      <th>3</th>\n",
              "      <td>0.242363</td>\n",
              "      <td>25.140620</td>\n",
              "      <td>0.615071</td>\n",
              "      <td>0.393075</td>\n",
              "      <td>13.675550</td>\n",
              "    </tr>\n",
              "  </tbody>\n",
              "</table>\n",
              "</div>"
            ],
            "text/plain": [
              "        Survived        Age     SibSp     Parch       Fare\n",
              "Pclass                                                    \n",
              "1       0.629630  38.233441  0.416667  0.356481  84.154687\n",
              "2       0.472826  29.877630  0.402174  0.380435  20.662183\n",
              "3       0.242363  25.140620  0.615071  0.393075  13.675550"
            ]
          },
          "metadata": {
            "tags": []
          },
          "execution_count": 30
        }
      ]
    },
    {
      "cell_type": "code",
      "metadata": {
        "id": "11xJBiwBr00T"
      },
      "source": [
        "def age_approx(cols):\r\n",
        "    Age = cols[0]\r\n",
        "    Pclass = cols[1]\r\n",
        "\r\n",
        "    if pd.isnull(Age):\r\n",
        "        if Pclass == 1:\r\n",
        "            return 37\r\n",
        "        elif Pclass == 2:\r\n",
        "            return 29\r\n",
        "        else:\r\n",
        "            return 24\r\n",
        "    else:\r\n",
        "        return Age\r\n",
        "            "
      ],
      "execution_count": 31,
      "outputs": []
    },
    {
      "cell_type": "code",
      "metadata": {
        "id": "FX-4VcehsuPv"
      },
      "source": [
        "df_train['Age'] = df_train[['Age','Pclass']].apply(age_approx, axis=1)"
      ],
      "execution_count": 33,
      "outputs": []
    },
    {
      "cell_type": "code",
      "metadata": {
        "colab": {
          "base_uri": "https://localhost:8080/"
        },
        "id": "pNbM3eN9L4nB",
        "outputId": "35cc211f-a9bd-4778-ebe7-c169c21fa42b"
      },
      "source": [
        "df_train.isnull().sum()"
      ],
      "execution_count": 34,
      "outputs": [
        {
          "output_type": "execute_result",
          "data": {
            "text/plain": [
              "Survived    0\n",
              "Pclass      0\n",
              "Sex         0\n",
              "Age         0\n",
              "SibSp       0\n",
              "Parch       0\n",
              "Fare        0\n",
              "Embarked    2\n",
              "dtype: int64"
            ]
          },
          "metadata": {
            "tags": []
          },
          "execution_count": 34
        }
      ]
    },
    {
      "cell_type": "code",
      "metadata": {
        "id": "7ywhkx0yNLUQ"
      },
      "source": [
        "df_train.dropna(inplace=True)"
      ],
      "execution_count": 35,
      "outputs": []
    },
    {
      "cell_type": "code",
      "metadata": {
        "colab": {
          "base_uri": "https://localhost:8080/"
        },
        "id": "sjrrS6NrNTg-",
        "outputId": "4dc8a21b-9b49-44c3-b22f-b149a66b769a"
      },
      "source": [
        "df_train.isnull().sum()"
      ],
      "execution_count": 36,
      "outputs": [
        {
          "output_type": "execute_result",
          "data": {
            "text/plain": [
              "Survived    0\n",
              "Pclass      0\n",
              "Sex         0\n",
              "Age         0\n",
              "SibSp       0\n",
              "Parch       0\n",
              "Fare        0\n",
              "Embarked    0\n",
              "dtype: int64"
            ]
          },
          "metadata": {
            "tags": []
          },
          "execution_count": 36
        }
      ]
    },
    {
      "cell_type": "code",
      "metadata": {
        "colab": {
          "base_uri": "https://localhost:8080/"
        },
        "id": "ySPTPbR2NVvN",
        "outputId": "0293a829-c0fd-4d2a-9469-aab161caf2eb"
      },
      "source": [
        "df_train.dtypes"
      ],
      "execution_count": 38,
      "outputs": [
        {
          "output_type": "execute_result",
          "data": {
            "text/plain": [
              "Survived      int64\n",
              "Pclass        int64\n",
              "Sex          object\n",
              "Age         float64\n",
              "SibSp         int64\n",
              "Parch         int64\n",
              "Fare        float64\n",
              "Embarked     object\n",
              "dtype: object"
            ]
          },
          "metadata": {
            "tags": []
          },
          "execution_count": 38
        }
      ]
    },
    {
      "cell_type": "code",
      "metadata": {
        "id": "_mv09ncYNaj5"
      },
      "source": [
        "df_train_dummied = pd.get_dummies(df_train, columns=['Sex'])"
      ],
      "execution_count": 39,
      "outputs": []
    },
    {
      "cell_type": "code",
      "metadata": {
        "id": "e-kWWv_sSJut"
      },
      "source": [
        "df_train_dummied = pd.get_dummies(df_train_dummied, columns=['Embarked'])"
      ],
      "execution_count": 41,
      "outputs": []
    },
    {
      "cell_type": "code",
      "metadata": {
        "colab": {
          "base_uri": "https://localhost:8080/",
          "height": 195
        },
        "id": "W1mnGTpaSUKu",
        "outputId": "cdb9bd40-bb3e-4c3a-ffee-9210e5dec143"
      },
      "source": [
        "df_train_dummied.head()"
      ],
      "execution_count": 42,
      "outputs": [
        {
          "output_type": "execute_result",
          "data": {
            "text/html": [
              "<div>\n",
              "<style scoped>\n",
              "    .dataframe tbody tr th:only-of-type {\n",
              "        vertical-align: middle;\n",
              "    }\n",
              "\n",
              "    .dataframe tbody tr th {\n",
              "        vertical-align: top;\n",
              "    }\n",
              "\n",
              "    .dataframe thead th {\n",
              "        text-align: right;\n",
              "    }\n",
              "</style>\n",
              "<table border=\"1\" class=\"dataframe\">\n",
              "  <thead>\n",
              "    <tr style=\"text-align: right;\">\n",
              "      <th></th>\n",
              "      <th>Survived</th>\n",
              "      <th>Pclass</th>\n",
              "      <th>Age</th>\n",
              "      <th>SibSp</th>\n",
              "      <th>Parch</th>\n",
              "      <th>Fare</th>\n",
              "      <th>Sex_female</th>\n",
              "      <th>Sex_male</th>\n",
              "      <th>Embarked_C</th>\n",
              "      <th>Embarked_Q</th>\n",
              "      <th>Embarked_S</th>\n",
              "    </tr>\n",
              "  </thead>\n",
              "  <tbody>\n",
              "    <tr>\n",
              "      <th>0</th>\n",
              "      <td>0</td>\n",
              "      <td>3</td>\n",
              "      <td>22.0</td>\n",
              "      <td>1</td>\n",
              "      <td>0</td>\n",
              "      <td>7.2500</td>\n",
              "      <td>0</td>\n",
              "      <td>1</td>\n",
              "      <td>0</td>\n",
              "      <td>0</td>\n",
              "      <td>1</td>\n",
              "    </tr>\n",
              "    <tr>\n",
              "      <th>1</th>\n",
              "      <td>1</td>\n",
              "      <td>1</td>\n",
              "      <td>38.0</td>\n",
              "      <td>1</td>\n",
              "      <td>0</td>\n",
              "      <td>71.2833</td>\n",
              "      <td>1</td>\n",
              "      <td>0</td>\n",
              "      <td>1</td>\n",
              "      <td>0</td>\n",
              "      <td>0</td>\n",
              "    </tr>\n",
              "    <tr>\n",
              "      <th>2</th>\n",
              "      <td>1</td>\n",
              "      <td>3</td>\n",
              "      <td>26.0</td>\n",
              "      <td>0</td>\n",
              "      <td>0</td>\n",
              "      <td>7.9250</td>\n",
              "      <td>1</td>\n",
              "      <td>0</td>\n",
              "      <td>0</td>\n",
              "      <td>0</td>\n",
              "      <td>1</td>\n",
              "    </tr>\n",
              "    <tr>\n",
              "      <th>3</th>\n",
              "      <td>1</td>\n",
              "      <td>1</td>\n",
              "      <td>35.0</td>\n",
              "      <td>1</td>\n",
              "      <td>0</td>\n",
              "      <td>53.1000</td>\n",
              "      <td>1</td>\n",
              "      <td>0</td>\n",
              "      <td>0</td>\n",
              "      <td>0</td>\n",
              "      <td>1</td>\n",
              "    </tr>\n",
              "    <tr>\n",
              "      <th>4</th>\n",
              "      <td>0</td>\n",
              "      <td>3</td>\n",
              "      <td>35.0</td>\n",
              "      <td>0</td>\n",
              "      <td>0</td>\n",
              "      <td>8.0500</td>\n",
              "      <td>0</td>\n",
              "      <td>1</td>\n",
              "      <td>0</td>\n",
              "      <td>0</td>\n",
              "      <td>1</td>\n",
              "    </tr>\n",
              "  </tbody>\n",
              "</table>\n",
              "</div>"
            ],
            "text/plain": [
              "   Survived  Pclass   Age  SibSp  ...  Sex_male  Embarked_C  Embarked_Q  Embarked_S\n",
              "0         0       3  22.0      1  ...         1           0           0           1\n",
              "1         1       1  38.0      1  ...         0           1           0           0\n",
              "2         1       3  26.0      0  ...         0           0           0           1\n",
              "3         1       1  35.0      1  ...         0           0           0           1\n",
              "4         0       3  35.0      0  ...         1           0           0           1\n",
              "\n",
              "[5 rows x 11 columns]"
            ]
          },
          "metadata": {
            "tags": []
          },
          "execution_count": 42
        }
      ]
    },
    {
      "cell_type": "code",
      "metadata": {
        "colab": {
          "base_uri": "https://localhost:8080/",
          "height": 387
        },
        "id": "Cy130dXjSb8h",
        "outputId": "ac097f8d-285b-4889-f056-1d043bf06b3a"
      },
      "source": [
        "plt.figure(figsize=(6,4))\r\n",
        "sns.heatmap(df_train_dummied.corr())"
      ],
      "execution_count": 43,
      "outputs": [
        {
          "output_type": "execute_result",
          "data": {
            "text/plain": [
              "<matplotlib.axes._subplots.AxesSubplot at 0x7fddc0a8a8d0>"
            ]
          },
          "metadata": {
            "tags": []
          },
          "execution_count": 43
        },
        {
          "output_type": "display_data",
          "data": {
            "image/png": "[encoded data removed]",
            "text/plain": [
              "<Figure size 432x288 with 2 Axes>"
            ]
          },
          "metadata": {
            "tags": []
          }
        }
      ]
    },
    {
      "cell_type": "code",
      "metadata": {
        "id": "YhmxZniXSomF"
      },
      "source": [
        "used_features = ['Pclass', 'Age', 'SibSp', 'Parch', 'Fare', 'Sex_female', 'Sex_male', 'Embarked_C', 'Embarked_Q', 'Embarked_S']"
      ],
      "execution_count": 44,
      "outputs": []
    },
    {
      "cell_type": "code",
      "metadata": {
        "id": "QkBRFM3NTqR5"
      },
      "source": [
        "X = df_train_dummied[used_features].values\r\n",
        "y = df_train_dummied['Survived']"
      ],
      "execution_count": 45,
      "outputs": []
    },
    {
      "cell_type": "code",
      "metadata": {
        "id": "LKYYqHNMT0DZ"
      },
      "source": [
        "X_train, X_test, y_train, y_test = train_test_split(X, y, test_size = 0.3, random_state = 1)"
      ],
      "execution_count": 46,
      "outputs": []
    },
    {
      "cell_type": "code",
      "metadata": {
        "colab": {
          "base_uri": "https://localhost:8080/"
        },
        "id": "nKK_vOqKUExF",
        "outputId": "394e0041-9dcc-46f7-937d-81f0858a29a7"
      },
      "source": [
        "print(X_train.shape)\r\n",
        "print(X_test.shape)\r\n",
        "print(y_train.shape)\r\n",
        "print(y_test.shape)"
      ],
      "execution_count": 47,
      "outputs": [
        {
          "output_type": "stream",
          "text": [
            "(622, 10)\n",
            "(267, 10)\n",
            "(622,)\n",
            "(267,)\n"
          ],
          "name": "stdout"
        }
      ]
    },
    {
      "cell_type": "code",
      "metadata": {
        "id": "YZT_kvtCUNW5"
      },
      "source": [
        "LogReg = LogisticRegression()"
      ],
      "execution_count": 48,
      "outputs": []
    },
    {
      "cell_type": "code",
      "metadata": {
        "colab": {
          "base_uri": "https://localhost:8080/"
        },
        "id": "XcwGmP5WUWRE",
        "outputId": "5bf9b307-b74f-4381-ae70-7dfaa1d20cf5"
      },
      "source": [
        "LogReg.fit(X_train, y_train)"
      ],
      "execution_count": 49,
      "outputs": [
        {
          "output_type": "stream",
          "text": [
            "/usr/local/lib/python3.7/dist-packages/sklearn/linear_model/_logistic.py:940: ConvergenceWarning: lbfgs failed to converge (status=1):\n",
            "STOP: TOTAL NO. of ITERATIONS REACHED LIMIT.\n",
            "\n",
            "Increase the number of iterations (max_iter) or scale the data as shown in:\n",
            "    https://scikit-learn.org/stable/modules/preprocessing.html\n",
            "Please also refer to the documentation for alternative solver options:\n",
            "    https://scikit-learn.org/stable/modules/linear_model.html#logistic-regression\n",
            "  extra_warning_msg=_LOGISTIC_SOLVER_CONVERGENCE_MSG)\n"
          ],
          "name": "stderr"
        },
        {
          "output_type": "execute_result",
          "data": {
            "text/plain": [
              "LogisticRegression(C=1.0, class_weight=None, dual=False, fit_intercept=True,\n",
              "                   intercept_scaling=1, l1_ratio=None, max_iter=100,\n",
              "                   multi_class='auto', n_jobs=None, penalty='l2',\n",
              "                   random_state=None, solver='lbfgs', tol=0.0001, verbose=0,\n",
              "                   warm_start=False)"
            ]
          },
          "metadata": {
            "tags": []
          },
          "execution_count": 49
        }
      ]
    },
    {
      "cell_type": "code",
      "metadata": {
        "id": "mJyhmgL1UaMi"
      },
      "source": [
        "y_pred = LogReg.predict(X_test)"
      ],
      "execution_count": 50,
      "outputs": []
    },
    {
      "cell_type": "code",
      "metadata": {
        "colab": {
          "base_uri": "https://localhost:8080/"
        },
        "id": "MqIytlM7UiOl",
        "outputId": "9ad681c1-adf4-4662-f082-cbf011318aec"
      },
      "source": [
        "metrics.confusion_matrix(y_test, y_pred)"
      ],
      "execution_count": 51,
      "outputs": [
        {
          "output_type": "execute_result",
          "data": {
            "text/plain": [
              "array([[142,  24],\n",
              "       [ 22,  79]])"
            ]
          },
          "metadata": {
            "tags": []
          },
          "execution_count": 51
        }
      ]
    },
    {
      "cell_type": "code",
      "metadata": {
        "colab": {
          "base_uri": "https://localhost:8080/"
        },
        "id": "B8VG_6HEUmwW",
        "outputId": "e5848982-28b1-4bc9-9136-8d9561828850"
      },
      "source": [
        "metrics.accuracy_score(y_test, y_pred)"
      ],
      "execution_count": 52,
      "outputs": [
        {
          "output_type": "execute_result",
          "data": {
            "text/plain": [
              "0.8277153558052435"
            ]
          },
          "metadata": {
            "tags": []
          },
          "execution_count": 52
        }
      ]
    },
    {
      "cell_type": "code",
      "metadata": {
        "colab": {
          "base_uri": "https://localhost:8080/"
        },
        "id": "Ya4V48IiUxMr",
        "outputId": "f36b213c-1361-442f-8388-8bc22751a66e"
      },
      "source": [
        "len(X_test)"
      ],
      "execution_count": 53,
      "outputs": [
        {
          "output_type": "execute_result",
          "data": {
            "text/plain": [
              "267"
            ]
          },
          "metadata": {
            "tags": []
          },
          "execution_count": 53
        }
      ]
    },
    {
      "cell_type": "code",
      "metadata": {
        "colab": {
          "base_uri": "https://localhost:8080/"
        },
        "id": "AQ_HD5nuU0LE",
        "outputId": "152a0d9e-65e3-4980-8088-80269fbf3b6c"
      },
      "source": [
        "print(classification_report(y_test,y_pred))"
      ],
      "execution_count": 54,
      "outputs": [
        {
          "output_type": "stream",
          "text": [
            "              precision    recall  f1-score   support\n",
            "\n",
            "           0       0.87      0.86      0.86       166\n",
            "           1       0.77      0.78      0.77       101\n",
            "\n",
            "    accuracy                           0.83       267\n",
            "   macro avg       0.82      0.82      0.82       267\n",
            "weighted avg       0.83      0.83      0.83       267\n",
            "\n"
          ],
          "name": "stdout"
        }
      ]
    },
    {
      "cell_type": "code",
      "metadata": {
        "colab": {
          "base_uri": "https://localhost:8080/"
        },
        "id": "tACv5YAlU7_z",
        "outputId": "907472cd-afd1-421e-bcf9-20a0f8ae6167"
      },
      "source": [
        "LogReg.coef_"
      ],
      "execution_count": 55,
      "outputs": [
        {
          "output_type": "execute_result",
          "data": {
            "text/plain": [
              "array([[-8.78319852e-01, -3.16263756e-02, -2.13968799e-01,\n",
              "        -4.68253406e-02,  1.62467759e-03,  1.88629506e+00,\n",
              "        -4.07011280e-01,  9.14136870e-01,  3.47870224e-01,\n",
              "         2.17276687e-01]])"
            ]
          },
          "metadata": {
            "tags": []
          },
          "execution_count": 55
        }
      ]
    },
    {
      "cell_type": "code",
      "metadata": {
        "colab": {
          "base_uri": "https://localhost:8080/"
        },
        "id": "_WBAIxaIVBwQ",
        "outputId": "35af7a74-5701-4b0b-8115-5cd62f4650e4"
      },
      "source": [
        "LogReg.intercept_"
      ],
      "execution_count": 56,
      "outputs": [
        {
          "output_type": "execute_result",
          "data": {
            "text/plain": [
              "array([1.69589126])"
            ]
          },
          "metadata": {
            "tags": []
          },
          "execution_count": 56
        }
      ]
    },
    {
      "cell_type": "code",
      "metadata": {
        "colab": {
          "base_uri": "https://localhost:8080/"
        },
        "id": "3-Yp7KSGVJc8",
        "outputId": "59a14d15-78df-4a2e-802b-1b326ea1130b"
      },
      "source": [
        "df_train_dummied[used_features].columns"
      ],
      "execution_count": 57,
      "outputs": [
        {
          "output_type": "execute_result",
          "data": {
            "text/plain": [
              "Index(['Pclass', 'Age', 'SibSp', 'Parch', 'Fare', 'Sex_female', 'Sex_male',\n",
              "       'Embarked_C', 'Embarked_Q', 'Embarked_S'],\n",
              "      dtype='object')"
            ]
          },
          "metadata": {
            "tags": []
          },
          "execution_count": 57
        }
      ]
    },
    {
      "cell_type": "code",
      "metadata": {
        "colab": {
          "base_uri": "https://localhost:8080/"
        },
        "id": "Ntzy02X_VPth",
        "outputId": "887f17c3-d851-4167-d308-6eb398b5a47b"
      },
      "source": [
        "LogReg.predict_proba(X_test)"
      ],
      "execution_count": 58,
      "outputs": [
        {
          "output_type": "execute_result",
          "data": {
            "text/plain": [
              "array([[0.28385999, 0.71614001],\n",
              "       [0.38771655, 0.61228345],\n",
              "       [0.93302474, 0.06697526],\n",
              "       [0.30966921, 0.69033079],\n",
              "       [0.93455555, 0.06544445],\n",
              "       [0.15623383, 0.84376617],\n",
              "       [0.35178134, 0.64821866],\n",
              "       [0.52051367, 0.47948633],\n",
              "       [0.77182415, 0.22817585],\n",
              "       [0.41214787, 0.58785213],\n",
              "       [0.73021775, 0.26978225],\n",
              "       [0.21947183, 0.78052817],\n",
              "       [0.75887601, 0.24112399],\n",
              "       [0.18169327, 0.81830673],\n",
              "       [0.85957385, 0.14042615],\n",
              "       [0.3811415 , 0.6188585 ],\n",
              "       [0.8652042 , 0.1347958 ],\n",
              "       [0.3102632 , 0.6897368 ],\n",
              "       [0.19567043, 0.80432957],\n",
              "       [0.41127654, 0.58872346],\n",
              "       [0.88585255, 0.11414745],\n",
              "       [0.5875324 , 0.4124676 ],\n",
              "       [0.85181316, 0.14818684],\n",
              "       [0.92850779, 0.07149221],\n",
              "       [0.50036045, 0.49963955],\n",
              "       [0.49752398, 0.50247602],\n",
              "       [0.04769423, 0.95230577],\n",
              "       [0.86309315, 0.13690685],\n",
              "       [0.88851361, 0.11148639],\n",
              "       [0.36616232, 0.63383768],\n",
              "       [0.39686399, 0.60313601],\n",
              "       [0.25919752, 0.74080248],\n",
              "       [0.18479933, 0.81520067],\n",
              "       [0.45827513, 0.54172487],\n",
              "       [0.62095384, 0.37904616],\n",
              "       [0.1984948 , 0.8015052 ],\n",
              "       [0.65514065, 0.34485935],\n",
              "       [0.86699606, 0.13300394],\n",
              "       [0.26855132, 0.73144868],\n",
              "       [0.55856793, 0.44143207],\n",
              "       [0.44151182, 0.55848818],\n",
              "       [0.89378828, 0.10621172],\n",
              "       [0.28475823, 0.71524177],\n",
              "       [0.86700777, 0.13299223],\n",
              "       [0.78412405, 0.21587595],\n",
              "       [0.2588604 , 0.7411396 ],\n",
              "       [0.19074082, 0.80925918],\n",
              "       [0.80871314, 0.19128686],\n",
              "       [0.08556873, 0.91443127],\n",
              "       [0.91045076, 0.08954924],\n",
              "       [0.86710141, 0.13289859],\n",
              "       [0.44550277, 0.55449723],\n",
              "       [0.89154322, 0.10845678],\n",
              "       [0.10676121, 0.89323879],\n",
              "       [0.75961845, 0.24038155],\n",
              "       [0.09381703, 0.90618297],\n",
              "       [0.78146267, 0.21853733],\n",
              "       [0.94044849, 0.05955151],\n",
              "       [0.72247441, 0.27752559],\n",
              "       [0.92657241, 0.07342759],\n",
              "       [0.79975157, 0.20024843],\n",
              "       [0.8556049 , 0.1443951 ],\n",
              "       [0.61903997, 0.38096003],\n",
              "       [0.86700777, 0.13299223],\n",
              "       [0.45027529, 0.54972471],\n",
              "       [0.26112875, 0.73887125],\n",
              "       [0.86579481, 0.13420519],\n",
              "       [0.89966845, 0.10033155],\n",
              "       [0.83910275, 0.16089725],\n",
              "       [0.06046744, 0.93953256],\n",
              "       [0.7974175 , 0.2025825 ],\n",
              "       [0.08074199, 0.91925801],\n",
              "       [0.6213594 , 0.3786406 ],\n",
              "       [0.8557211 , 0.1442789 ],\n",
              "       [0.32395909, 0.67604091],\n",
              "       [0.15646957, 0.84353043],\n",
              "       [0.85127688, 0.14872312],\n",
              "       [0.91125572, 0.08874428],\n",
              "       [0.80643351, 0.19356649],\n",
              "       [0.82601876, 0.17398124],\n",
              "       [0.85127688, 0.14872312],\n",
              "       [0.85954361, 0.14045639],\n",
              "       [0.04872734, 0.95127266],\n",
              "       [0.05424176, 0.94575824],\n",
              "       [0.77026   , 0.22974   ],\n",
              "       [0.65412436, 0.34587564],\n",
              "       [0.46358953, 0.53641047],\n",
              "       [0.2745434 , 0.7254566 ],\n",
              "       [0.86700777, 0.13299223],\n",
              "       [0.38088125, 0.61911875],\n",
              "       [0.88740613, 0.11259387],\n",
              "       [0.36617646, 0.63382354],\n",
              "       [0.9210033 , 0.0789967 ],\n",
              "       [0.76480944, 0.23519056],\n",
              "       [0.2471131 , 0.7528869 ],\n",
              "       [0.83095155, 0.16904845],\n",
              "       [0.26373614, 0.73626386],\n",
              "       [0.2988262 , 0.7011738 ],\n",
              "       [0.24711183, 0.75288817],\n",
              "       [0.24182177, 0.75817823],\n",
              "       [0.84769365, 0.15230635],\n",
              "       [0.36271627, 0.63728373],\n",
              "       [0.60976782, 0.39023218],\n",
              "       [0.85177233, 0.14822767],\n",
              "       [0.85160645, 0.14839355],\n",
              "       [0.89920377, 0.10079623],\n",
              "       [0.11694099, 0.88305901],\n",
              "       [0.84772599, 0.15227401],\n",
              "       [0.75324189, 0.24675811],\n",
              "       [0.81195916, 0.18804084],\n",
              "       [0.64487249, 0.35512751],\n",
              "       [0.76271961, 0.23728039],\n",
              "       [0.76480944, 0.23519056],\n",
              "       [0.19802148, 0.80197852],\n",
              "       [0.35885515, 0.64114485],\n",
              "       [0.09331494, 0.90668506],\n",
              "       [0.90986368, 0.09013632],\n",
              "       [0.41217574, 0.58782426],\n",
              "       [0.07066611, 0.92933389],\n",
              "       [0.79254701, 0.20745299],\n",
              "       [0.87075866, 0.12924134],\n",
              "       [0.22101567, 0.77898433],\n",
              "       [0.36603036, 0.63396964],\n",
              "       [0.55343677, 0.44656323],\n",
              "       [0.22109562, 0.77890438],\n",
              "       [0.88121613, 0.11878387],\n",
              "       [0.48939538, 0.51060462],\n",
              "       [0.90445425, 0.09554575],\n",
              "       [0.8741624 , 0.1258376 ],\n",
              "       [0.5601784 , 0.4398216 ],\n",
              "       [0.44579908, 0.55420092],\n",
              "       [0.6102268 , 0.3897732 ],\n",
              "       [0.87362764, 0.12637236],\n",
              "       [0.62227222, 0.37772778],\n",
              "       [0.38213357, 0.61786643],\n",
              "       [0.09430806, 0.90569194],\n",
              "       [0.8540592 , 0.1459408 ],\n",
              "       [0.91288302, 0.08711698],\n",
              "       [0.86568151, 0.13431849],\n",
              "       [0.87844063, 0.12155937],\n",
              "       [0.84716707, 0.15283293],\n",
              "       [0.32463614, 0.67536386],\n",
              "       [0.91033866, 0.08966134],\n",
              "       [0.39886916, 0.60113084],\n",
              "       [0.63235638, 0.36764362],\n",
              "       [0.67843599, 0.32156401],\n",
              "       [0.19874296, 0.80125704],\n",
              "       [0.08378472, 0.91621528],\n",
              "       [0.09735518, 0.90264482],\n",
              "       [0.92406299, 0.07593701],\n",
              "       [0.87178607, 0.12821393],\n",
              "       [0.92260349, 0.07739651],\n",
              "       [0.15520885, 0.84479115],\n",
              "       [0.84772599, 0.15227401],\n",
              "       [0.41042575, 0.58957425],\n",
              "       [0.3819322 , 0.6180678 ],\n",
              "       [0.77710267, 0.22289733],\n",
              "       [0.39866706, 0.60133294],\n",
              "       [0.88068227, 0.11931773],\n",
              "       [0.86705928, 0.13294072],\n",
              "       [0.54984035, 0.45015965],\n",
              "       [0.77651435, 0.22348565],\n",
              "       [0.5601784 , 0.4398216 ],\n",
              "       [0.87501296, 0.12498704],\n",
              "       [0.85944416, 0.14055584],\n",
              "       [0.83503582, 0.16496418],\n",
              "       [0.1316302 , 0.8683698 ],\n",
              "       [0.03411031, 0.96588969],\n",
              "       [0.7726193 , 0.2273807 ],\n",
              "       [0.25317029, 0.74682971],\n",
              "       [0.84937456, 0.15062544],\n",
              "       [0.89604406, 0.10395594],\n",
              "       [0.85127688, 0.14872312],\n",
              "       [0.86705539, 0.13294461],\n",
              "       [0.67902816, 0.32097184],\n",
              "       [0.29958452, 0.70041548],\n",
              "       [0.85954361, 0.14045639],\n",
              "       [0.72957294, 0.27042706],\n",
              "       [0.86700777, 0.13299223],\n",
              "       [0.84724826, 0.15275174],\n",
              "       [0.85127688, 0.14872312],\n",
              "       [0.86700777, 0.13299223],\n",
              "       [0.60330332, 0.39669668],\n",
              "       [0.92223051, 0.07776949],\n",
              "       [0.36622202, 0.63377798],\n",
              "       [0.78362784, 0.21637216],\n",
              "       [0.41404273, 0.58595727],\n",
              "       [0.61487275, 0.38512725],\n",
              "       [0.22778052, 0.77221948],\n",
              "       [0.89359678, 0.10640322],\n",
              "       [0.74585596, 0.25414404],\n",
              "       [0.70551478, 0.29448522],\n",
              "       [0.85972494, 0.14027506],\n",
              "       [0.7708063 , 0.2291937 ],\n",
              "       [0.92336075, 0.07663925],\n",
              "       [0.74308424, 0.25691576],\n",
              "       [0.89428665, 0.10571335],\n",
              "       [0.28891802, 0.71108198],\n",
              "       [0.62227222, 0.37772778],\n",
              "       [0.09369821, 0.90630179],\n",
              "       [0.71399094, 0.28600906],\n",
              "       [0.21333965, 0.78666035],\n",
              "       [0.79333044, 0.20666956],\n",
              "       [0.56379661, 0.43620339],\n",
              "       [0.05413273, 0.94586727],\n",
              "       [0.88095587, 0.11904413],\n",
              "       [0.86882056, 0.13117944],\n",
              "       [0.30124637, 0.69875363],\n",
              "       [0.78943935, 0.21056065],\n",
              "       [0.08727795, 0.91272205],\n",
              "       [0.84967571, 0.15032429],\n",
              "       [0.75304163, 0.24695837],\n",
              "       [0.76481066, 0.23518934],\n",
              "       [0.75324316, 0.24675684],\n",
              "       [0.32774964, 0.67225036],\n",
              "       [0.1816784 , 0.8183216 ],\n",
              "       [0.76534587, 0.23465413],\n",
              "       [0.2073947 , 0.7926053 ],\n",
              "       [0.9022649 , 0.0977351 ],\n",
              "       [0.69634574, 0.30365426],\n",
              "       [0.87501296, 0.12498704],\n",
              "       [0.49134847, 0.50865153],\n",
              "       [0.66178404, 0.33821596],\n",
              "       [0.24691149, 0.75308851],\n",
              "       [0.26716373, 0.73283627],\n",
              "       [0.85928843, 0.14071157],\n",
              "       [0.63001667, 0.36998333],\n",
              "       [0.85127688, 0.14872312],\n",
              "       [0.77045175, 0.22954825],\n",
              "       [0.75569724, 0.24430276],\n",
              "       [0.41063737, 0.58936263],\n",
              "       [0.28662103, 0.71337897],\n",
              "       [0.46606484, 0.53393516],\n",
              "       [0.85127688, 0.14872312],\n",
              "       [0.88753593, 0.11246407],\n",
              "       [0.88357954, 0.11642046],\n",
              "       [0.86703666, 0.13296334],\n",
              "       [0.80751895, 0.19248105],\n",
              "       [0.40583269, 0.59416731],\n",
              "       [0.87068551, 0.12931449],\n",
              "       [0.30930789, 0.69069211],\n",
              "       [0.84787187, 0.15212813],\n",
              "       [0.84767093, 0.15232907],\n",
              "       [0.66315607, 0.33684393],\n",
              "       [0.50146149, 0.49853851],\n",
              "       [0.12561287, 0.87438713],\n",
              "       [0.15318569, 0.84681431],\n",
              "       [0.7621098 , 0.2378902 ],\n",
              "       [0.69995719, 0.30004281],\n",
              "       [0.8700604 , 0.1299396 ],\n",
              "       [0.21596876, 0.78403124],\n",
              "       [0.3661466 , 0.6338534 ],\n",
              "       [0.40456594, 0.59543406],\n",
              "       [0.92696868, 0.07303132],\n",
              "       [0.11561974, 0.88438026],\n",
              "       [0.23210153, 0.76789847],\n",
              "       [0.87418251, 0.12581749],\n",
              "       [0.89359227, 0.10640773],\n",
              "       [0.05171075, 0.94828925],\n",
              "       [0.76480944, 0.23519056],\n",
              "       [0.23041484, 0.76958516],\n",
              "       [0.87718468, 0.12281532],\n",
              "       [0.67211127, 0.32788873],\n",
              "       [0.86703666, 0.13296334],\n",
              "       [0.28662239, 0.71337761],\n",
              "       [0.85128202, 0.14871798],\n",
              "       [0.90249684, 0.09750316]])"
            ]
          },
          "metadata": {
            "tags": []
          },
          "execution_count": 58
        }
      ]
    },
    {
      "cell_type": "code",
      "metadata": {
        "id": "Uzer1M3EVVII"
      },
      "source": [
        ""
      ],
      "execution_count": null,
      "outputs": []
    }
  ]
}